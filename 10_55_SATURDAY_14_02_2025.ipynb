{
  "nbformat": 4,
  "nbformat_minor": 0,
  "metadata": {
    "colab": {
      "private_outputs": true,
      "provenance": [],
      "gpuType": "V28",
      "authorship_tag": "ABX9TyNQ5MtwcptpFltohAgW3Cwt",
      "include_colab_link": true
    },
    "kernelspec": {
      "name": "python3",
      "display_name": "Python 3"
    },
    "language_info": {
      "name": "python"
    },
    "accelerator": "TPU"
  },
  "cells": [
    {
      "cell_type": "markdown",
      "metadata": {
        "id": "view-in-github",
        "colab_type": "text"
      },
      "source": [
        "<a href=\"https://colab.research.google.com/github/Salmankm93/Attenion_Mechanism_using_YOLO_PCB/blob/main/10_55_SATURDAY_14_02_2025.ipynb\" target=\"_parent\"><img src=\"https://colab.research.google.com/assets/colab-badge.svg\" alt=\"Open In Colab\"/></a>"
      ]
    },
    {
      "cell_type": "code",
      "execution_count": null,
      "metadata": {
        "id": "JiR0TDrh0UpF"
      },
      "outputs": [],
      "source": [
        "!git clone https://github.com/RuiyangJu/Fracture_Detection_Improved_YOLOv8.git"
      ]
    },
    {
      "cell_type": "code",
      "source": [
        "!pip install -U ultralytics"
      ],
      "metadata": {
        "id": "4-q0KFRU59Xv"
      },
      "execution_count": null,
      "outputs": []
    },
    {
      "cell_type": "code",
      "source": [
        "\n",
        "!pip install roboflow\n",
        "\n",
        "from roboflow import Roboflow\n",
        "rf = Roboflow(api_key=\"2TRdzxkoBAbFCEvIBdIy\")\n",
        "project = rf.workspace(\"object-detection-dt-wzpc6\").project(\"pcb-dataset-defect\")\n",
        "version = project.version(1)\n",
        "dataset = version.download(\"yolov8\")\n"
      ],
      "metadata": {
        "id": "x3Q3bYxdYbDD"
      },
      "execution_count": null,
      "outputs": []
    },
    {
      "cell_type": "code",
      "source": [
        "# prompt:   pip install -r /content/Fracture_Detection_Improved_YOLOv8/requirements.txt\n",
        "\n",
        "!pip install -r /content/Fracture_Detection_Improved_YOLOv8/requirements.txt\n"
      ],
      "metadata": {
        "id": "8CF8dwEh0kuM"
      },
      "execution_count": null,
      "outputs": []
    },
    {
      "cell_type": "code",
      "source": [
        "!pip install --upgrade torch torchvision torchaudio --index-url https://download.pytorch.org/whl/cu118"
      ],
      "metadata": {
        "id": "Ae8nKtqND5z1"
      },
      "execution_count": null,
      "outputs": []
    },
    {
      "cell_type": "code",
      "source": [
        "!python /content/Fracture_Detection_Improved_YOLOv8/start_train.py --model /content/Fracture_Detection_Improved_YOLOv8/ultralytics/cfg/models/v8/yolov8_ECA.yaml --data_dir /content/PCB-Dataset-Defect-1/data.yaml"
      ],
      "metadata": {
        "id": "RoZ2R_af3_Gv"
      },
      "execution_count": null,
      "outputs": []
    },
    {
      "cell_type": "code",
      "source": [],
      "metadata": {
        "id": "z6mAGNeB2Ncw"
      },
      "execution_count": null,
      "outputs": []
    }
  ]
}